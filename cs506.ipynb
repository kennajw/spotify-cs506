{
  "cells": [
    {
      "cell_type": "markdown",
      "metadata": {
        "id": "lqoT387G-Tfm"
      },
      "source": [
        "# Imports\n",
        "\n",
        "This Lab uses numpy, matplotlib, pillow, pandas, scipy, scikit-learn and scikit-image."
      ]
    },
    {
      "cell_type": "code",
      "execution_count": null,
      "metadata": {
        "id": "57L2m5SM8CYB"
      },
      "outputs": [
        {
          "name": "stdout",
          "output_type": "stream",
          "text": [
            "1\n"
          ]
        }
      ],
      "source": [
        "#imports\n",
        "import pandas as pd\n",
        "print(1)"
      ]
    },
    {
      "cell_type": "code",
      "execution_count": null,
      "metadata": {},
      "outputs": [
        {
          "name": "stderr",
          "output_type": "stream",
          "text": [
            "C:\\Users\\maxim\\AppData\\Roaming\\Python\\Python37\\site-packages\\ipykernel_launcher.py:10: SettingWithCopyWarning: \n",
            "A value is trying to be set on a copy of a slice from a DataFrame\n",
            "\n",
            "See the caveats in the documentation: https://pandas.pydata.org/pandas-docs/stable/user_guide/indexing.html#returning-a-view-versus-a-copy\n",
            "  # Remove the CWD from sys.path while we load stuff.\n",
            "C:\\Users\\maxim\\AppData\\Roaming\\Python\\Python37\\site-packages\\ipykernel_launcher.py:7: SettingWithCopyWarning: \n",
            "A value is trying to be set on a copy of a slice from a DataFrame\n",
            "\n",
            "See the caveats in the documentation: https://pandas.pydata.org/pandas-docs/stable/user_guide/indexing.html#returning-a-view-versus-a-copy\n",
            "  import sys\n"
          ]
        },
        {
          "name": "stdout",
          "output_type": "stream",
          "text": [
            "77194\n"
          ]
        }
      ],
      "source": [
        "df=pd.read_csv(\"spotify_history.csv\")\n",
        "arrShuffle=df[\"shuffle\"]\n",
        "arrReason_End=df[\"reason_end\"]\n",
        "arrMs_Played=df[\"ms_played\"]\n",
        "arrReason_Start=df[\"reason_start\"]\n",
        "\n",
        "i=0\n",
        "print(len(arrReason_End))\n",
        "for x in range(len(arrReason_End)):\n",
        "    if(arrReason_End[x]==\"trackdone\"):\n",
        "        arrReason_End[x]=1\n",
        "        i+=1\n",
        "    else:\n",
        "        arrReason_End[x]=0\n",
        "print(i)\n"
      ]
    },
    {
      "cell_type": "code",
      "execution_count": null,
      "metadata": {},
      "outputs": [],
      "source": []
    }
  ],
  "metadata": {
    "colab": {
      "provenance": []
    },
    "kernelspec": {
      "display_name": "Python 3",
      "name": "python3"
    },
    "language_info": {
      "codemirror_mode": {
        "name": "ipython",
        "version": 3
      },
      "file_extension": ".py",
      "mimetype": "text/x-python",
      "name": "python",
      "nbconvert_exporter": "python",
      "pygments_lexer": "ipython3",
      "version": "3.7.9"
    }
  },
  "nbformat": 4,
  "nbformat_minor": 0
}
